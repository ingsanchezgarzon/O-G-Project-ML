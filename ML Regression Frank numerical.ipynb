{
 "cells": [
  {
   "cell_type": "code",
   "execution_count": 22,
   "metadata": {},
   "outputs": [],
   "source": [
    "import numpy as np # linear algebra\n",
    "import pandas as pd # \n",
    "import matplotlib.pyplot as plt\n",
    "import seaborn as sns\n",
    "%matplotlib inline\n",
    "sns.set()\n",
    "\n",
    "#Importing the auxiliar and preprocessing librarys \n",
    "from sklearn.metrics import accuracy_score, confusion_matrix, classification_report\n",
    "from sklearn.model_selection import cross_val_score\n",
    "from sklearn.preprocessing import LabelEncoder, StandardScaler\n",
    "from sklearn.pipeline import Pipeline\n",
    "\n",
    "from sklearn.model_selection import train_test_split, KFold, cross_validate\n",
    "from sklearn.metrics import accuracy_score\n",
    "\n",
    "#Models\n",
    "import warnings\n",
    "warnings.filterwarnings(\"ignore\")\n",
    "\n",
    "from eli5.sklearn import PermutationImportance\n",
    "\n",
    "from sklearn.cluster import KMeans\n",
    "from sklearn.decomposition import PCA\n",
    "from sklearn.svm import SVC\n",
    "from sklearn.linear_model import RidgeClassifier, SGDClassifier, LogisticRegression\n",
    "from sklearn.linear_model import LogisticRegression\n",
    "from sklearn.svm import SVC, LinearSVC\n",
    "from sklearn.neighbors import KNeighborsClassifier\n",
    "from sklearn.tree import DecisionTreeClassifier\n",
    "#from xgboost import XGBClassifier\n",
    "from sklearn.naive_bayes import MultinomialNB\n",
    "from sklearn.feature_selection import SelectFromModel\n",
    "from sklearn.ensemble import RandomForestClassifier, GradientBoostingClassifier, ExtraTreesClassifier, BaggingClassifier, VotingClassifier, RandomTreesEmbedding"
   ]
  },
  {
   "cell_type": "code",
   "execution_count": 2,
   "metadata": {},
   "outputs": [
    {
     "data": {
      "text/html": [
       "<div>\n",
       "<style scoped>\n",
       "    .dataframe tbody tr th:only-of-type {\n",
       "        vertical-align: middle;\n",
       "    }\n",
       "\n",
       "    .dataframe tbody tr th {\n",
       "        vertical-align: top;\n",
       "    }\n",
       "\n",
       "    .dataframe thead th {\n",
       "        text-align: right;\n",
       "    }\n",
       "</style>\n",
       "<table border=\"1\" class=\"dataframe\">\n",
       "  <thead>\n",
       "    <tr style=\"text-align: right;\">\n",
       "      <th></th>\n",
       "      <th>Project</th>\n",
       "      <th>FY</th>\n",
       "      <th>Quarter</th>\n",
       "      <th>Month</th>\n",
       "      <th>Main Category</th>\n",
       "      <th>Category_details</th>\n",
       "      <th>Main_Causes</th>\n",
       "      <th>Causes_details</th>\n",
       "      <th>Amount</th>\n",
       "      <th>MonthN</th>\n",
       "      <th>CauseN</th>\n",
       "    </tr>\n",
       "  </thead>\n",
       "  <tbody>\n",
       "    <tr>\n",
       "      <th>0</th>\n",
       "      <td>ALNG</td>\n",
       "      <td>2010</td>\n",
       "      <td>Q3</td>\n",
       "      <td>August</td>\n",
       "      <td>Operations</td>\n",
       "      <td>Installations</td>\n",
       "      <td>PLANNING</td>\n",
       "      <td>1.2 Late delivery from suppliers/subcontractors</td>\n",
       "      <td>1.453043</td>\n",
       "      <td>8</td>\n",
       "      <td>1</td>\n",
       "    </tr>\n",
       "    <tr>\n",
       "      <th>1</th>\n",
       "      <td>ALNG</td>\n",
       "      <td>2010</td>\n",
       "      <td>Q3</td>\n",
       "      <td>June</td>\n",
       "      <td>Operations</td>\n",
       "      <td>Installations</td>\n",
       "      <td>PLANNING</td>\n",
       "      <td>1.4 Ship Rescheduling/Reallocation : Change of...</td>\n",
       "      <td>7.752658</td>\n",
       "      <td>6</td>\n",
       "      <td>2</td>\n",
       "    </tr>\n",
       "    <tr>\n",
       "      <th>2</th>\n",
       "      <td>ALNG</td>\n",
       "      <td>2010</td>\n",
       "      <td>Q2</td>\n",
       "      <td>May</td>\n",
       "      <td>Operations</td>\n",
       "      <td>Installations</td>\n",
       "      <td>PLANNING</td>\n",
       "      <td>1.4 Ship Rescheduling/Reallocation : Change of...</td>\n",
       "      <td>7.594819</td>\n",
       "      <td>5</td>\n",
       "      <td>2</td>\n",
       "    </tr>\n",
       "    <tr>\n",
       "      <th>3</th>\n",
       "      <td>Block 15</td>\n",
       "      <td>2010</td>\n",
       "      <td>Q1</td>\n",
       "      <td>February</td>\n",
       "      <td>Project Management</td>\n",
       "      <td>Project Management</td>\n",
       "      <td>PLANNING</td>\n",
       "      <td>1.1 Late issue of AFC documentation</td>\n",
       "      <td>0.703771</td>\n",
       "      <td>2</td>\n",
       "      <td>3</td>\n",
       "    </tr>\n",
       "    <tr>\n",
       "      <th>4</th>\n",
       "      <td>Block 15</td>\n",
       "      <td>2010</td>\n",
       "      <td>Q1</td>\n",
       "      <td>December</td>\n",
       "      <td>Fabrication</td>\n",
       "      <td>Fabrication</td>\n",
       "      <td>PLANNING</td>\n",
       "      <td>1.1 Late issue of AFC documentation</td>\n",
       "      <td>0.117295</td>\n",
       "      <td>12</td>\n",
       "      <td>3</td>\n",
       "    </tr>\n",
       "  </tbody>\n",
       "</table>\n",
       "</div>"
      ],
      "text/plain": [
       "    Project    FY Quarter     Month       Main Category    Category_details  \\\n",
       "0      ALNG  2010      Q3    August          Operations       Installations   \n",
       "1      ALNG  2010      Q3      June          Operations       Installations   \n",
       "2      ALNG  2010      Q2       May          Operations       Installations   \n",
       "3  Block 15  2010      Q1  February  Project Management  Project Management   \n",
       "4  Block 15  2010      Q1  December         Fabrication         Fabrication   \n",
       "\n",
       "  Main_Causes                                     Causes_details    Amount  \\\n",
       "0    PLANNING    1.2 Late delivery from suppliers/subcontractors  1.453043   \n",
       "1    PLANNING  1.4 Ship Rescheduling/Reallocation : Change of...  7.752658   \n",
       "2    PLANNING  1.4 Ship Rescheduling/Reallocation : Change of...  7.594819   \n",
       "3    PLANNING                1.1 Late issue of AFC documentation  0.703771   \n",
       "4    PLANNING                1.1 Late issue of AFC documentation  0.117295   \n",
       "\n",
       "   MonthN  CauseN  \n",
       "0       8       1  \n",
       "1       6       2  \n",
       "2       5       2  \n",
       "3       2       3  \n",
       "4      12       3  "
      ]
     },
     "execution_count": 2,
     "metadata": {},
     "output_type": "execute_result"
    }
   ],
   "source": [
    "normalized = pd.read_csv('normalized.csv', delimiter=',')\n",
    "#This file contains the information of the DB without the comments of the causes \n",
    "normalized.head()"
   ]
  },
  {
   "cell_type": "code",
   "execution_count": 3,
   "metadata": {},
   "outputs": [
    {
     "name": "stdout",
     "output_type": "stream",
     "text": [
      "<class 'pandas.core.frame.DataFrame'>\n",
      "RangeIndex: 432 entries, 0 to 431\n",
      "Data columns (total 11 columns):\n",
      "Project             432 non-null object\n",
      "FY                  432 non-null int64\n",
      "Quarter             432 non-null object\n",
      "Month               432 non-null object\n",
      "Main Category       432 non-null object\n",
      "Category_details    432 non-null object\n",
      "Main_Causes         432 non-null object\n",
      "Causes_details      432 non-null object\n",
      "Amount              432 non-null float64\n",
      "MonthN              432 non-null int64\n",
      "CauseN              432 non-null int64\n",
      "dtypes: float64(1), int64(3), object(7)\n",
      "memory usage: 37.2+ KB\n"
     ]
    }
   ],
   "source": [
    "normalized.info()"
   ]
  },
  {
   "cell_type": "markdown",
   "metadata": {},
   "source": [
    "First model: Only numerical columns"
   ]
  },
  {
   "cell_type": "code",
   "execution_count": 4,
   "metadata": {},
   "outputs": [],
   "source": [
    "# Select numeric columns only\n",
    "numeric_cols = [cname for cname in normalized.columns if normalized[cname].dtype in ['int64', 'float64']]\n",
    "X = normalized[numeric_cols].copy()"
   ]
  },
  {
   "cell_type": "code",
   "execution_count": 6,
   "metadata": {},
   "outputs": [],
   "source": [
    "y = normalized.Amount\n",
    "X.drop(['Amount'], axis=1, inplace=True)"
   ]
  },
  {
   "cell_type": "code",
   "execution_count": 7,
   "metadata": {},
   "outputs": [],
   "source": [
    "from sklearn.model_selection import train_test_split\n",
    "\n",
    "X_train_full, X_valid_full, y_train, y_valid = train_test_split(X, y, \n",
    "                                                                train_size=0.8, test_size=0.2,\n",
    "                                                                random_state=0)"
   ]
  },
  {
   "cell_type": "code",
   "execution_count": 12,
   "metadata": {},
   "outputs": [],
   "source": [
    "from sklearn.ensemble import RandomForestRegressor\n",
    "from sklearn.pipeline import Pipeline\n",
    "from sklearn.impute import SimpleImputer\n",
    "\n",
    "my_pipeline = Pipeline(steps=[\n",
    "    ('preprocessor', SimpleImputer()),\n",
    "    ('model', RandomForestRegressor(n_estimators=50, random_state=0))\n",
    "])\n"
   ]
  },
  {
   "cell_type": "code",
   "execution_count": 13,
   "metadata": {},
   "outputs": [
    {
     "name": "stdout",
     "output_type": "stream",
     "text": [
      "Average MAE score: 1.5059711963847888\n"
     ]
    }
   ],
   "source": [
    "#Write a scoring function\n",
    "from sklearn.model_selection import cross_val_score\n",
    "\n",
    "# Multiply by -1 since sklearn calculates *negative* MAE\n",
    "scores = -1 * cross_val_score(my_pipeline, X, y,\n",
    "                              cv=5,\n",
    "                              scoring='neg_mean_absolute_error')\n",
    "\n",
    "print(\"Average MAE score:\", scores.mean())"
   ]
  },
  {
   "cell_type": "code",
   "execution_count": 14,
   "metadata": {},
   "outputs": [],
   "source": [
    "def get_score(n_estimators):\n",
    "    \"\"\"Return the average MAE over 3 CV folds of random forest model.\n",
    "        Keyword argument:\n",
    "    n_estimators -- the number of trees in the forest\n",
    "    \"\"\"\n",
    "    my_pipeline = Pipeline(steps=[\n",
    "        ('preprocessor', SimpleImputer()),\n",
    "        ('model', RandomForestRegressor(n_estimators, random_state=0))\n",
    "    ])\n",
    "    scores = -1 * cross_val_score(my_pipeline, X, y,\n",
    "                              cv=3,\n",
    "                              scoring='neg_mean_absolute_error')\n",
    "    # Replace this body with your own code\n",
    "    return scores.mean()"
   ]
  },
  {
   "cell_type": "code",
   "execution_count": 17,
   "metadata": {},
   "outputs": [],
   "source": [
    "results = {}\n",
    "for i in range (50,750,50):\n",
    "    results[i] = get_score(i) "
   ]
  },
  {
   "cell_type": "code",
   "execution_count": 18,
   "metadata": {},
   "outputs": [
    {
     "data": {
      "image/png": "[encoded data removed]",
      "text/plain": [
       "<Figure size 432x288 with 1 Axes>"
      ]
     },
     "metadata": {
      "needs_background": "light"
     },
     "output_type": "display_data"
    }
   ],
   "source": [
    "plt.plot(results.keys(), results.values())\n",
    "plt.show()"
   ]
  },
  {
   "cell_type": "code",
   "execution_count": 20,
   "metadata": {},
   "outputs": [
    {
     "name": "stdout",
     "output_type": "stream",
     "text": [
      "500\n"
     ]
    }
   ],
   "source": [
    "n_estimators_best = min(results, key=results.get)\n",
    "print(n_estimators_best)"
   ]
  },
  {
   "cell_type": "markdown",
   "metadata": {},
   "source": [
    "best model: RandomForestRegressor(n_estimators=50, random_state=0)"
   ]
  }
 ],
 "metadata": {
  "kernelspec": {
   "display_name": "Python 3",
   "language": "python",
   "name": "python3"
  },
  "language_info": {
   "codemirror_mode": {
    "name": "ipython",
    "version": 3
   },
   "file_extension": ".py",
   "mimetype": "text/x-python",
   "name": "python",
   "nbconvert_exporter": "python",
   "pygments_lexer": "ipython3",
   "version": "3.7.3"
  }
 },
 "nbformat": 4,
 "nbformat_minor": 2
}
