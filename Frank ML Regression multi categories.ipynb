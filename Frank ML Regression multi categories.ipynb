{
 "cells": [
  {
   "cell_type": "code",
   "execution_count": 1,
   "metadata": {},
   "outputs": [],
   "source": [
    "import numpy as np # linear algebra\n",
    "import pandas as pd # \n",
    "import matplotlib.pyplot as plt\n",
    "import seaborn as sns\n",
    "%matplotlib inline\n",
    "sns.set()\n",
    "\n",
    "#Importing the auxiliar and preprocessing librarys \n",
    "from sklearn.metrics import accuracy_score, confusion_matrix, classification_report\n",
    "from sklearn.model_selection import cross_val_score\n",
    "from sklearn.preprocessing import LabelEncoder, StandardScaler\n",
    "from sklearn.pipeline import Pipeline\n",
    "\n",
    "from sklearn.model_selection import train_test_split, KFold, cross_validate\n",
    "from sklearn.metrics import accuracy_score"
   ]
  },
  {
   "cell_type": "code",
   "execution_count": 6,
   "metadata": {},
   "outputs": [
    {
     "data": {
      "text/html": [
       "<div>\n",
       "<style scoped>\n",
       "    .dataframe tbody tr th:only-of-type {\n",
       "        vertical-align: middle;\n",
       "    }\n",
       "\n",
       "    .dataframe tbody tr th {\n",
       "        vertical-align: top;\n",
       "    }\n",
       "\n",
       "    .dataframe thead th {\n",
       "        text-align: right;\n",
       "    }\n",
       "</style>\n",
       "<table border=\"1\" class=\"dataframe\">\n",
       "  <thead>\n",
       "    <tr style=\"text-align: right;\">\n",
       "      <th></th>\n",
       "      <th>Project</th>\n",
       "      <th>FY</th>\n",
       "      <th>Quarter</th>\n",
       "      <th>Month</th>\n",
       "      <th>Main Category</th>\n",
       "      <th>Category_details</th>\n",
       "      <th>Main_Causes</th>\n",
       "      <th>Causes_details</th>\n",
       "      <th>Amount</th>\n",
       "      <th>MonthN</th>\n",
       "      <th>CauseN</th>\n",
       "    </tr>\n",
       "  </thead>\n",
       "  <tbody>\n",
       "    <tr>\n",
       "      <th>0</th>\n",
       "      <td>ALNG</td>\n",
       "      <td>2010</td>\n",
       "      <td>Q3</td>\n",
       "      <td>August</td>\n",
       "      <td>Operations</td>\n",
       "      <td>Installations</td>\n",
       "      <td>PLANNING</td>\n",
       "      <td>1.2 Late delivery from suppliers/subcontractors</td>\n",
       "      <td>1.453043</td>\n",
       "      <td>8</td>\n",
       "      <td>1</td>\n",
       "    </tr>\n",
       "    <tr>\n",
       "      <th>1</th>\n",
       "      <td>ALNG</td>\n",
       "      <td>2010</td>\n",
       "      <td>Q3</td>\n",
       "      <td>June</td>\n",
       "      <td>Operations</td>\n",
       "      <td>Installations</td>\n",
       "      <td>PLANNING</td>\n",
       "      <td>1.4 Ship Rescheduling/Reallocation : Change of...</td>\n",
       "      <td>7.752658</td>\n",
       "      <td>6</td>\n",
       "      <td>2</td>\n",
       "    </tr>\n",
       "    <tr>\n",
       "      <th>2</th>\n",
       "      <td>ALNG</td>\n",
       "      <td>2010</td>\n",
       "      <td>Q2</td>\n",
       "      <td>May</td>\n",
       "      <td>Operations</td>\n",
       "      <td>Installations</td>\n",
       "      <td>PLANNING</td>\n",
       "      <td>1.4 Ship Rescheduling/Reallocation : Change of...</td>\n",
       "      <td>7.594819</td>\n",
       "      <td>5</td>\n",
       "      <td>2</td>\n",
       "    </tr>\n",
       "    <tr>\n",
       "      <th>3</th>\n",
       "      <td>Block 15</td>\n",
       "      <td>2010</td>\n",
       "      <td>Q1</td>\n",
       "      <td>February</td>\n",
       "      <td>Project Management</td>\n",
       "      <td>Project Management</td>\n",
       "      <td>PLANNING</td>\n",
       "      <td>1.1 Late issue of AFC documentation</td>\n",
       "      <td>0.703771</td>\n",
       "      <td>2</td>\n",
       "      <td>3</td>\n",
       "    </tr>\n",
       "    <tr>\n",
       "      <th>4</th>\n",
       "      <td>Block 15</td>\n",
       "      <td>2010</td>\n",
       "      <td>Q1</td>\n",
       "      <td>December</td>\n",
       "      <td>Fabrication</td>\n",
       "      <td>Fabrication</td>\n",
       "      <td>PLANNING</td>\n",
       "      <td>1.1 Late issue of AFC documentation</td>\n",
       "      <td>0.117295</td>\n",
       "      <td>12</td>\n",
       "      <td>3</td>\n",
       "    </tr>\n",
       "  </tbody>\n",
       "</table>\n",
       "</div>"
      ],
      "text/plain": [
       "    Project    FY Quarter     Month       Main Category    Category_details  \\\n",
       "0      ALNG  2010      Q3    August          Operations       Installations   \n",
       "1      ALNG  2010      Q3      June          Operations       Installations   \n",
       "2      ALNG  2010      Q2       May          Operations       Installations   \n",
       "3  Block 15  2010      Q1  February  Project Management  Project Management   \n",
       "4  Block 15  2010      Q1  December         Fabrication         Fabrication   \n",
       "\n",
       "  Main_Causes                                     Causes_details    Amount  \\\n",
       "0    PLANNING    1.2 Late delivery from suppliers/subcontractors  1.453043   \n",
       "1    PLANNING  1.4 Ship Rescheduling/Reallocation : Change of...  7.752658   \n",
       "2    PLANNING  1.4 Ship Rescheduling/Reallocation : Change of...  7.594819   \n",
       "3    PLANNING                1.1 Late issue of AFC documentation  0.703771   \n",
       "4    PLANNING                1.1 Late issue of AFC documentation  0.117295   \n",
       "\n",
       "   MonthN  CauseN  \n",
       "0       8       1  \n",
       "1       6       2  \n",
       "2       5       2  \n",
       "3       2       3  \n",
       "4      12       3  "
      ]
     },
     "execution_count": 6,
     "metadata": {},
     "output_type": "execute_result"
    }
   ],
   "source": [
    "normalized = pd.read_csv('normalized.csv', delimiter=',')\n",
    "#This file contains the information of the DB without the comments of the causes \n",
    "normalized.head()"
   ]
  },
  {
   "cell_type": "markdown",
   "metadata": {},
   "source": [
    "Second model: all columns"
   ]
  },
  {
   "cell_type": "code",
   "execution_count": 7,
   "metadata": {},
   "outputs": [],
   "source": [
    "X = normalized.copy()"
   ]
  },
  {
   "cell_type": "code",
   "execution_count": 8,
   "metadata": {},
   "outputs": [],
   "source": [
    "y = X.Amount\n",
    "X.drop(['Amount'], axis=1, inplace=True)"
   ]
  },
  {
   "cell_type": "code",
   "execution_count": 9,
   "metadata": {},
   "outputs": [],
   "source": [
    "X_train, X_valid, y_train, y_valid = train_test_split(X, y, train_size=0.8, test_size=0.2,\n",
    "                                                                random_state=0)\n"
   ]
  },
  {
   "cell_type": "code",
   "execution_count": 10,
   "metadata": {},
   "outputs": [],
   "source": [
    "# Select categorical columns with relatively low cardinality (convenient but arbitrary)\n",
    "categorical_cols = [cname for cname in X_train.columns if\n",
    "                    X_train[cname].nunique() < 10 and \n",
    "                    X_train[cname].dtype == \"object\"]"
   ]
  },
  {
   "cell_type": "code",
   "execution_count": 11,
   "metadata": {},
   "outputs": [],
   "source": [
    "# Select numerical columns\n",
    "numerical_cols = [cname for cname in X_train.columns if \n",
    "                X_train[cname].dtype in ['int64', 'float64']]"
   ]
  },
  {
   "cell_type": "code",
   "execution_count": 12,
   "metadata": {},
   "outputs": [],
   "source": [
    "my_cols = categorical_cols + numerical_cols\n",
    "X_train = X_train[my_cols].copy()\n",
    "X_valid = X_valid[my_cols].copy()"
   ]
  },
  {
   "cell_type": "code",
   "execution_count": 13,
   "metadata": {},
   "outputs": [
    {
     "data": {
      "text/html": [
       "<div>\n",
       "<style scoped>\n",
       "    .dataframe tbody tr th:only-of-type {\n",
       "        vertical-align: middle;\n",
       "    }\n",
       "\n",
       "    .dataframe tbody tr th {\n",
       "        vertical-align: top;\n",
       "    }\n",
       "\n",
       "    .dataframe thead th {\n",
       "        text-align: right;\n",
       "    }\n",
       "</style>\n",
       "<table border=\"1\" class=\"dataframe\">\n",
       "  <thead>\n",
       "    <tr style=\"text-align: right;\">\n",
       "      <th></th>\n",
       "      <th>Project</th>\n",
       "      <th>Quarter</th>\n",
       "      <th>Main Category</th>\n",
       "      <th>Main_Causes</th>\n",
       "      <th>FY</th>\n",
       "      <th>MonthN</th>\n",
       "      <th>CauseN</th>\n",
       "    </tr>\n",
       "  </thead>\n",
       "  <tbody>\n",
       "    <tr>\n",
       "      <th>391</th>\n",
       "      <td>Block 15</td>\n",
       "      <td>Q1</td>\n",
       "      <td>Project Management</td>\n",
       "      <td>PERFORMANCE ERRORS OR INEFFICIENCIES</td>\n",
       "      <td>2010</td>\n",
       "      <td>12</td>\n",
       "      <td>14</td>\n",
       "    </tr>\n",
       "    <tr>\n",
       "      <th>124</th>\n",
       "      <td>Pazflor</td>\n",
       "      <td>Q2</td>\n",
       "      <td>Operations</td>\n",
       "      <td>COMMERCIAL/CONTRACTUAL</td>\n",
       "      <td>2011</td>\n",
       "      <td>5</td>\n",
       "      <td>5</td>\n",
       "    </tr>\n",
       "    <tr>\n",
       "      <th>378</th>\n",
       "      <td>Block 15</td>\n",
       "      <td>Q2</td>\n",
       "      <td>Operations</td>\n",
       "      <td>PERFORMANCE ERRORS OR INEFFICIENCIES</td>\n",
       "      <td>2009</td>\n",
       "      <td>5</td>\n",
       "      <td>14</td>\n",
       "    </tr>\n",
       "    <tr>\n",
       "      <th>5</th>\n",
       "      <td>Block 15</td>\n",
       "      <td>Q1</td>\n",
       "      <td>Operations</td>\n",
       "      <td>PLANNING</td>\n",
       "      <td>2010</td>\n",
       "      <td>1</td>\n",
       "      <td>1</td>\n",
       "    </tr>\n",
       "    <tr>\n",
       "      <th>113</th>\n",
       "      <td>Pazflor</td>\n",
       "      <td>Q2</td>\n",
       "      <td>Project Management</td>\n",
       "      <td>COMMERCIAL/CONTRACTUAL</td>\n",
       "      <td>2011</td>\n",
       "      <td>5</td>\n",
       "      <td>5</td>\n",
       "    </tr>\n",
       "  </tbody>\n",
       "</table>\n",
       "</div>"
      ],
      "text/plain": [
       "      Project Quarter       Main Category  \\\n",
       "391  Block 15      Q1  Project Management   \n",
       "124   Pazflor      Q2          Operations   \n",
       "378  Block 15      Q2          Operations   \n",
       "5    Block 15      Q1          Operations   \n",
       "113   Pazflor      Q2  Project Management   \n",
       "\n",
       "                              Main_Causes    FY  MonthN  CauseN  \n",
       "391  PERFORMANCE ERRORS OR INEFFICIENCIES  2010      12      14  \n",
       "124                COMMERCIAL/CONTRACTUAL  2011       5       5  \n",
       "378  PERFORMANCE ERRORS OR INEFFICIENCIES  2009       5      14  \n",
       "5                                PLANNING  2010       1       1  \n",
       "113                COMMERCIAL/CONTRACTUAL  2011       5       5  "
      ]
     },
     "execution_count": 13,
     "metadata": {},
     "output_type": "execute_result"
    }
   ],
   "source": [
    "X_train.head()"
   ]
  },
  {
   "cell_type": "code",
   "execution_count": 14,
   "metadata": {},
   "outputs": [],
   "source": [
    "from sklearn.compose import ColumnTransformer\n",
    "from sklearn.pipeline import Pipeline\n",
    "from sklearn.impute import SimpleImputer\n",
    "from sklearn.preprocessing import OneHotEncoder\n",
    "from sklearn.ensemble import RandomForestRegressor\n",
    "from sklearn.metrics import mean_absolute_error"
   ]
  },
  {
   "cell_type": "code",
   "execution_count": 15,
   "metadata": {},
   "outputs": [],
   "source": [
    "# Preprocessing for numerical data\n",
    "numerical_transformer = SimpleImputer(strategy='constant')\n",
    "\n",
    "# Preprocessing for categorical data\n",
    "categorical_transformer = Pipeline(steps=[\n",
    "    ('imputer', SimpleImputer(strategy='most_frequent')),\n",
    "    ('onehot', OneHotEncoder(handle_unknown='ignore'))\n",
    "])"
   ]
  },
  {
   "cell_type": "code",
   "execution_count": 16,
   "metadata": {},
   "outputs": [],
   "source": [
    "# Bundle preprocessing for numerical and categorical data\n",
    "preprocessor = ColumnTransformer(\n",
    "    transformers=[\n",
    "        ('num', numerical_transformer, numerical_cols),\n",
    "        ('cat', categorical_transformer, categorical_cols)\n",
    "    ])"
   ]
  },
  {
   "cell_type": "code",
   "execution_count": 17,
   "metadata": {},
   "outputs": [],
   "source": [
    "# Define model\n",
    "#model = RandomForestRegressor(n_estimators=100, random_state=0) \n",
    "model = RandomForestRegressor(n_estimators=500, random_state=0) \n"
   ]
  },
  {
   "cell_type": "code",
   "execution_count": 18,
   "metadata": {},
   "outputs": [],
   "source": [
    "# Bundle preprocessing and modeling code in a pipeline\n",
    "clf = Pipeline(steps=[('preprocessor', preprocessor),\n",
    "                      ('model', model)\n",
    "                     ])"
   ]
  },
  {
   "cell_type": "code",
   "execution_count": 19,
   "metadata": {},
   "outputs": [],
   "source": [
    "# Preprocessing of training data, fit model \n",
    "clf.fit(X_train, y_train)\n",
    "\n",
    "# Preprocessing of validation data, get predictions\n",
    "preds = clf.predict(X_valid)\n"
   ]
  },
  {
   "cell_type": "code",
   "execution_count": 20,
   "metadata": {},
   "outputs": [
    {
     "name": "stdout",
     "output_type": "stream",
     "text": [
      "MAE: 1.1034063534299374\n"
     ]
    }
   ],
   "source": [
    "print('MAE:', mean_absolute_error(y_valid, preds))"
   ]
  },
  {
   "cell_type": "markdown",
   "metadata": {},
   "source": [
    "The MAE improved from 1.410 to 1.103"
   ]
  }
 ],
 "metadata": {
  "kernelspec": {
   "display_name": "Python 3",
   "language": "python",
   "name": "python3"
  },
  "language_info": {
   "codemirror_mode": {
    "name": "ipython",
    "version": 3
   },
   "file_extension": ".py",
   "mimetype": "text/x-python",
   "name": "python",
   "nbconvert_exporter": "python",
   "pygments_lexer": "ipython3",
   "version": "3.7.3"
  }
 },
 "nbformat": 4,
 "nbformat_minor": 2
}
